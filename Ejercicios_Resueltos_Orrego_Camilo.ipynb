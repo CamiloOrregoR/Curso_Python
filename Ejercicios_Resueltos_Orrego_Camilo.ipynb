{
 "cells": [
  {
   "cell_type": "markdown",
   "metadata": {},
   "source": [
    "# **EJERCICIOS PYTHON (08/10/22), entregar el (15/10/22)**\n",
    "\n",
    "**Camilo Orrego Rojas - 1000193278**\n"
   ]
  },
  {
   "cell_type": "code",
   "execution_count": 5,
   "metadata": {},
   "outputs": [],
   "source": [
    "# 1. Calcular la suma de todos los números del 1 a un número dado. Por ejemplo, si el usuario ingresó 10, la salida debería ser 55 (1+2+3+4+5+6+7+8+9+10)\n",
    "\n",
    "def Suma_numeros():\n",
    "    x = int(input('Ingrese el núnero hasta el que quiere sumar: '))\n",
    "    S_x = (x*(1+x))/2\n",
    "    return print(f'La suma de los números desdel 1 hasta el {x} es: {S_x}')"
   ]
  },
  {
   "cell_type": "code",
   "execution_count": 6,
   "metadata": {},
   "outputs": [
    {
     "name": "stdout",
     "output_type": "stream",
     "text": [
      "La suma de los números desdel 1 hasta el 6 es: 21.0\n"
     ]
    }
   ],
   "source": [
    "Suma_numeros()"
   ]
  },
  {
   "cell_type": "code",
   "execution_count": 19,
   "metadata": {},
   "outputs": [
    {
     "name": "stdout",
     "output_type": "stream",
     "text": [
      "Los primeros 10 términos de la serie de Fibonacci son: [0, 1, 1, 2, 3, 5, 8, 13, 21, 34]\n"
     ]
    }
   ],
   "source": [
    "# 2. Escribir un programa que muestre la serie de Fibonacci hasta 10 términos. Por ejemplo, 0, 1, 1, 2, 3, 5, 8, 13, 21. El siguiente número en esta serie anterior es 13+21 = 34.\n",
    "\n",
    "def Fibonacci_10():\n",
    "    fibonacci = [0, 1]\n",
    "    N = 10\n",
    "    for term in range(3, N + 1):\n",
    "        valor = fibonacci[term - 2] + fibonacci[term - 3]\n",
    "        fibonacci.append(valor)\n",
    "    return print(f'Los primeros 10 términos de la serie de Fibonacci son: {fibonacci}')\n",
    "\n",
    "Fibonacci_10()"
   ]
  },
  {
   "cell_type": "code",
   "execution_count": 1,
   "metadata": {},
   "outputs": [],
   "source": [
    "# Segunda forma del punto 2 pero con el número de posiciones que se quieran\n",
    "\n",
    "def Fibonacci():\n",
    "    N = int(input('Ingrese la posicón deseada de la serie Fibonacci: '))\n",
    "    lista_Fib = [0,1]\n",
    "    while len(lista_Fib) < N:\n",
    "        lista_Fib.append(lista_Fib[len(lista_Fib) - 1] + lista_Fib[len(lista_Fib)-2])\n",
    "    return print(f'Posición escogida: {N}. Serie Fibonacci: ', lista_Fib)"
   ]
  },
  {
   "cell_type": "code",
   "execution_count": 2,
   "metadata": {},
   "outputs": [
    {
     "name": "stdout",
     "output_type": "stream",
     "text": [
      "Posición escogida: 15. Serie Fibonacci:  [0, 1, 1, 2, 3, 5, 8, 13, 21, 34, 55, 89, 144, 233, 377]\n"
     ]
    }
   ],
   "source": [
    "Fibonacci()"
   ]
  },
  {
   "cell_type": "code",
   "execution_count": 1,
   "metadata": {},
   "outputs": [
    {
     "name": "stdout",
     "output_type": "stream",
     "text": [
      "El factorial de 5 es: 120\n"
     ]
    }
   ],
   "source": [
    "# 3. Encuentra el factorial de un número dado, ingresado por el teclado\n",
    "def Num_Factorial():\n",
    "    Fac = int(input('Ingrese número para factorial: '))\n",
    "    a = 1 \n",
    "    for i in range(1,Fac+1):\n",
    "        a = a*i\n",
    "    return print(f'El factorial de {Fac} es: {a}')\n",
    "\n",
    "Num_Factorial()"
   ]
  },
  {
   "cell_type": "code",
   "execution_count": 9,
   "metadata": {},
   "outputs": [
    {
     "name": "stdout",
     "output_type": "stream",
     "text": [
      "[6, 1, 8, 3, 10, 5]\n"
     ]
    }
   ],
   "source": [
    "'''4. Dadas dos listas, l1 y l2, escriba un programa para crear una tercera lista l3\n",
    "seleccionando un elemento de índice impar de la lista l1 y elementos de índice par de la lista l2.'''\n",
    "\n",
    "l1 = [0,1,2,3,4,5]\n",
    "l2 = [6,7,8,9,10]\n",
    "l3 = []\n",
    "i = 0 \n",
    "while i < len(l1):\n",
    "    if i%2 == 0:\n",
    "        l3.append(l2[i])\n",
    "    else:\n",
    "        l3.append(l1[i])\n",
    "    i += 1\n",
    "print(l3)    "
   ]
  },
  {
   "cell_type": "code",
   "execution_count": 16,
   "metadata": {},
   "outputs": [
    {
     "name": "stdout",
     "output_type": "stream",
     "text": [
      "[5, 8, 9, 6, 10, 13, 1, 18, 13, 4, 8, 13, 14, 17, 12]\n",
      "{5: 1, 8: 2, 9: 1, 6: 1, 10: 1, 13: 3, 1: 1, 18: 1, 4: 1, 14: 1, 17: 1, 12: 1}\n"
     ]
    }
   ],
   "source": [
    "'''5. Escriba un programa para iterar una lista dada y contar la aparición de elemento y crear un diccionario para mostrar el recuento de cada elemento.\n",
    "Ejemplo lista dada = [2, 8, 24, 32, 67, 2, 32, 27, 2] -- resultado deseado = {2:3, 8:1, 32:2, 67:1, 27:1 }'''\n",
    "\n",
    "from random import randint\n",
    "T = int(input('Ingrese tamaño de lista deseado: '))\n",
    "Lista_4 = []\n",
    "while len(Lista_4) < T:\n",
    "    Lista_4.append(randint(0,20))\n",
    "print(Lista_4)\n",
    "Dicc_Lista_4 = {}\n",
    "for i in Lista_4:\n",
    "    Dicc_Lista_4[i] = Lista_4.count(i)\n",
    "print(Dicc_Lista_4)\n"
   ]
  },
  {
   "cell_type": "code",
   "execution_count": 23,
   "metadata": {},
   "outputs": [
    {
     "data": {
      "text/plain": [
       "{1: 1, 2: 4, 3: 9, 4: 16, 5: 25, 6: 36, 7: 49, 8: 64, 9: 81, 10: 100}"
      ]
     },
     "execution_count": 23,
     "metadata": {},
     "output_type": "execute_result"
    }
   ],
   "source": [
    "'''6. Escribe un programa en Python que pida un número por teclado y que cree un diccionario cuyas claves sean desde el número 1 hasta el número indicado, los\n",
    "valores deben ser los cuadrados de las claves'''\n",
    "def Num_Square():\n",
    "    y = int(input('Ingrese un número: '))\n",
    "    Dicc_2 = {}\n",
    "    for i in range(1,y+1):\n",
    "        Dicc_2[i] = i**2\n",
    "    return Dicc_2\n",
    "Num_Square()"
   ]
  },
  {
   "cell_type": "code",
   "execution_count": 1,
   "metadata": {},
   "outputs": [
    {
     "name": "stdout",
     "output_type": "stream",
     "text": [
      "Frutas en inventario: dict_keys(['Manzana', 'Pera', 'Banano', 'Mango', 'Sandía', 'Naranja', 'Mandarina'])\n",
      "El precio total es: 7200\n",
      "Frutas en inventario: dict_keys(['Manzana', 'Pera', 'Banano', 'Mango', 'Sandía', 'Naranja', 'Mandarina'])\n",
      "Esta fruta no se encuentra en el inventario, ingrese otra\n"
     ]
    }
   ],
   "source": [
    "'''7. Crear un programa en Python donde vamos a declarar un diccionario para guardar los precios de las distintas frutas. El programa pedirá el nombre de la fruta y la\n",
    "cantidad que se ha vendido y nos mostrará el precio final de la fruta a partir de los datos guardados en el diccionario. Si la fruta no existe nos dará un error. Tras cada\n",
    "consulta el programa nos preguntará si queremos hacer otra consulta'''\n",
    "Frutas = {'Manzana':1500,'Pera':1200,'Banano':1000,'Mango':1700,'Sandía':5000,'Naranja':800,'Mandarina':800}\n",
    "N = 'si'\n",
    "while N == 'si':\n",
    "    print('Frutas en inventario:',Frutas.keys())\n",
    "    Fruta = input('Ingrese la fruta vendida: ')\n",
    "    if Fruta in Frutas.keys():\n",
    "        Cant = int(input('Cantidad de frutas vendidas: '))\n",
    "        Precio = Cant*Frutas[Fruta]\n",
    "        print(f'El precio total es: {Precio}')\n",
    "        N = input('¿Desea continuar? si/no: ')\n",
    "    else:\n",
    "        print('Esta fruta no se encuentra en el inventario, ingrese otra')\n",
    "        N = input('¿Desea continuar? si/no: ')\n"
   ]
  },
  {
   "cell_type": "code",
   "execution_count": 18,
   "metadata": {},
   "outputs": [],
   "source": [
    "'''8. Crear un programa en Python que nos permita guardar los nombres de los alumnos de una clase y las notas que han obtenido. Cada alumno puede tener distinta\n",
    "cantidad de notas. Guarda la información en un diccionario cuyas claves serán los nombres de los alumnos y los valores serán las notas de cada uno en una lista. El\n",
    "programa pedirá el número de alumnos que vamos a introducir, pedirá su nombre e irá pidiendo sus notas hasta que introduzcamos un número negativo. Al final el\n",
    "programa nos mostrará la lista de alumnos y la nota media obtenida por cada uno de ellos. Nota: si se introduce el nombre de un alumno que ya existe el programa nos\n",
    "dará un error'''\n",
    "\n",
    "def Notas_Estudiantes():\n",
    "    Num_estudiantes = int(input('Ingrese la cantidad de estudiantes: '))\n",
    "    Dicc_notas = {}\n",
    "    i = 0\n",
    "    Dicc_promedios = {}\n",
    "    while i < Num_estudiantes:\n",
    "        Nom = input('Nombre del Estudiante: ')\n",
    "        if Nom in Dicc_notas:\n",
    "            print('Error, este estudiante ya existe en la lista')\n",
    "            Nom = input('Nombre del Estudiante: ')\n",
    "        \n",
    "        Dicc_notas[Nom] = []\n",
    "        n = eval(input('Nota: '))\n",
    "        while 0 < n <= 5:\n",
    "            Dicc_notas[Nom].append(n)\n",
    "            n = eval(input('Nota: '))\n",
    "        for k in range(0,len(Dicc_notas[Nom])):\n",
    "            prom = (sum(Dicc_notas[Nom]))/len(Dicc_notas[Nom])\n",
    "            Dicc_promedios[Nom] = prom\n",
    "        i += 1\n",
    "    return print(f'La lista de estudiantes y notas es: {Dicc_notas}, los promedios son: {Dicc_promedios}')"
   ]
  },
  {
   "cell_type": "code",
   "execution_count": 19,
   "metadata": {},
   "outputs": [
    {
     "name": "stdout",
     "output_type": "stream",
     "text": [
      "Error, este estudiante ya existe en la lista\n",
      "La lista de estudiantes y notas es: {'Cam': [5], 'Pau': [4], 'Cami': [3]}, los promedios son: {'Cam': 5.0, 'Pau': 4.0, 'Cami': 3.0}\n"
     ]
    }
   ],
   "source": [
    "Notas_Estudiantes()"
   ]
  }
 ],
 "metadata": {
  "kernelspec": {
   "display_name": "Python 3.10.7 64-bit",
   "language": "python",
   "name": "python3"
  },
  "language_info": {
   "codemirror_mode": {
    "name": "ipython",
    "version": 3
   },
   "file_extension": ".py",
   "mimetype": "text/x-python",
   "name": "python",
   "nbconvert_exporter": "python",
   "pygments_lexer": "ipython3",
   "version": "3.10.7"
  },
  "orig_nbformat": 4,
  "vscode": {
   "interpreter": {
    "hash": "680909a85cd0f96ba1c50ae49c7276dc4874e63b5fd1d1624a0b59680dc2cd74"
   }
  }
 },
 "nbformat": 4,
 "nbformat_minor": 2
}
